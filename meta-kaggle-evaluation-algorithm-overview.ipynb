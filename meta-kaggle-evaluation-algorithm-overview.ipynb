{
 "cells": [
  {
   "cell_type": "markdown",
   "id": "92b6cc1e",
   "metadata": {
    "papermill": {
     "duration": 0.002922,
     "end_time": "2023-03-02T05:10:05.325220",
     "exception": false,
     "start_time": "2023-03-02T05:10:05.322298",
     "status": "completed"
    },
    "tags": []
   },
   "source": [
    "# 1. Introduction\n",
    "\n",
    "<div style=\"color:white;display:fill;\n",
    "            background-color:#48AFFF;font-size:160%;\n",
    "            font-family:Arial\">\n",
    "    <p style=\"padding: 4px;color:white;\"><b>1.1 Context</b></p>\n",
    "</div>\n",
    "\n"
   ]
  },
  {
   "cell_type": "markdown",
   "id": "9eda4873",
   "metadata": {
    "papermill": {
     "duration": 0.001412,
     "end_time": "2023-03-02T05:10:05.328612",
     "exception": false,
     "start_time": "2023-03-02T05:10:05.327200",
     "status": "completed"
    },
    "tags": []
   },
   "source": [
    "<div style=\"color:white;display:fill;\n",
    "            background-color:#48AFFF;font-size:160%;\n",
    "            font-family:Arial\">\n",
    "    <p style=\"padding: 4px;color:white;\"><b>1.2 Used code</b></p>\n",
    "</div>\n",
    "\n",
    "The code used is adapted from the chapter on The Meta Kaggle dataset in [The Kaggle Book](https://www.kaggle.com/general/320574) by [(Banachewicz & Massaron)](#3.-References)."
   ]
  },
  {
   "cell_type": "markdown",
   "id": "fccaeea2",
   "metadata": {
    "papermill": {
     "duration": 0.00139,
     "end_time": "2023-03-02T05:10:05.331603",
     "exception": false,
     "start_time": "2023-03-02T05:10:05.330213",
     "status": "completed"
    },
    "tags": []
   },
   "source": [
    "# 2. Implementation\n",
    "\n",
    "<div style=\"color:white;display:fill;\n",
    "            background-color:#48AFFF;font-size:160%;\n",
    "            font-family:Arial\">\n",
    "    <p style=\"padding: 4px;color:white;\"><b>2.1 Libraries</b></p>\n",
    "</div>\n"
   ]
  },
  {
   "cell_type": "markdown",
   "id": "cf5a110f",
   "metadata": {
    "papermill": {
     "duration": 0.001342,
     "end_time": "2023-03-02T05:10:05.334507",
     "exception": false,
     "start_time": "2023-03-02T05:10:05.333165",
     "status": "completed"
    },
    "tags": []
   },
   "source": [
    "# 3. References\n",
    "\n",
    "<div style=\"color:white;display:fill;\n",
    "            background-color:#48AFFF;font-size:160%;\n",
    "            font-family:Arial\">\n",
    "    <p style=\"padding: 4px;color:white;\"><b>3.1 References</b></p>\n",
    "</div>\n",
    "\n",
    "* Banachewicz, Konrad; Massaron, Luca. [The Kaggle Book](https://www.kaggle.com/general/320574): Data analysis and machine learning for competitive data science. Packt Publishing"
   ]
  }
 ],
 "metadata": {
  "kernelspec": {
   "display_name": "Python 3",
   "language": "python",
   "name": "python3"
  },
  "language_info": {
   "codemirror_mode": {
    "name": "ipython",
    "version": 3
   },
   "file_extension": ".py",
   "mimetype": "text/x-python",
   "name": "python",
   "nbconvert_exporter": "python",
   "pygments_lexer": "ipython3",
   "version": "3.7.12"
  },
  "papermill": {
   "default_parameters": {},
   "duration": 10.625249,
   "end_time": "2023-03-02T05:10:05.961071",
   "environment_variables": {},
   "exception": null,
   "input_path": "__notebook__.ipynb",
   "output_path": "__notebook__.ipynb",
   "parameters": {},
   "start_time": "2023-03-02T05:09:55.335822",
   "version": "2.4.0"
  }
 },
 "nbformat": 4,
 "nbformat_minor": 5
}
